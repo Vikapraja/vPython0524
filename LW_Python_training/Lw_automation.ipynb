{
 "cells": [
  {
   "cell_type": "code",
   "execution_count": 2,
   "id": "06334d8c-2809-4811-9a44-5923aad06244",
   "metadata": {},
   "outputs": [
    {
     "name": "stdout",
     "output_type": "stream",
     "text": [
      "\t\t\t\tWelcome to my Automation Tool\n",
      "\t\t\t\t-----------------------------\n",
      "Option 1: Open notepad\n",
      "Option 2: Open Chrome\n",
      "Option 3: Send Whatsapp\n"
     ]
    },
    {
     "name": "stdin",
     "output_type": "stream",
     "text": [
      "Enter your choice:  1\n"
     ]
    },
    {
     "name": "stdout",
     "output_type": "stream",
     "text": [
      "1\n"
     ]
    }
   ],
   "source": [
    "import os\n",
    "print(\"\\t\\t\\t\\tWelcome to my Automation Tool\")\n",
    "print(\"\\t\\t\\t\\t-----------------------------\")\n",
    "\n",
    "print(\"Option 1: Open notepad\")\n",
    "print(\"Option 2: Open Chrome\")\n",
    "print(\"Option 3: Send Whatsapp\")\n",
    "\n",
    "choice = input(\"Enter your choice: \")\n",
    "print(choice)\n",
    "\n",
    "if int(choice) == 1:\n",
    "    os.system(\"notepad\")\n",
    "elif int(choice) == 2:\n",
    "    os.system(\"chrome\")\n",
    "elif int(choice) == 3:\n",
    "    print(\"WA\")\n",
    "else:\n",
    "    print(\"idk(i don't know)\")"
   ]
  },
  {
   "cell_type": "code",
   "execution_count": null,
   "id": "b15c87b8-4b18-4c48-b823-42811d07920c",
   "metadata": {},
   "outputs": [],
   "source": []
  }
 ],
 "metadata": {
  "kernelspec": {
   "display_name": "Python 3 (ipykernel)",
   "language": "python",
   "name": "python3"
  },
  "language_info": {
   "codemirror_mode": {
    "name": "ipython",
    "version": 3
   },
   "file_extension": ".py",
   "mimetype": "text/x-python",
   "name": "python",
   "nbconvert_exporter": "python",
   "pygments_lexer": "ipython3",
   "version": "3.12.4"
  }
 },
 "nbformat": 4,
 "nbformat_minor": 5
}
