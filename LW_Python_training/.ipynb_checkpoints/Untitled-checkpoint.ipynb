{
 "cells": [
  {
   "cell_type": "code",
   "execution_count": 1,
   "id": "9430480d-a40c-49ea-8bf9-96f72bb91ce5",
   "metadata": {},
   "outputs": [
    {
     "name": "stdout",
     "output_type": "stream",
     "text": [
      "Vivekanand Prajapati\n"
     ]
    }
   ],
   "source": [
    "print(\"Vivekanand Prajapati\")"
   ]
  },
  {
   "cell_type": "code",
   "execution_count": null,
   "id": "5d834cb0-6616-4f90-83c6-fe78444ea3b6",
   "metadata": {},
   "outputs": [],
   "source": []
  }
 ],
 "metadata": {
  "kernelspec": {
   "display_name": "Python 3 (ipykernel)",
   "language": "python",
   "name": "python3"
  },
  "language_info": {
   "codemirror_mode": {
    "name": "ipython",
    "version": 3
   },
   "file_extension": ".py",
   "mimetype": "text/x-python",
   "name": "python",
   "nbconvert_exporter": "python",
   "pygments_lexer": "ipython3",
   "version": "3.12.3"
  }
 },
 "nbformat": 4,
 "nbformat_minor": 5
}
