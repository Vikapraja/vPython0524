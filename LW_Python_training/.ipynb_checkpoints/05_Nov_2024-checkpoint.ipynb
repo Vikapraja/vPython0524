{
 "cells": [
  {
   "cell_type": "code",
   "execution_count": 7,
   "id": "73e6643c-b099-47fe-a488-e926ae0bf56b",
   "metadata": {},
   "outputs": [
    {
     "name": "stdout",
     "output_type": "stream",
     "text": [
      "hello###world\n"
     ]
    }
   ],
   "source": [
    "# defing print()'s defalt end\n",
    "print(\"hello\", end=\"###\")\n",
    "print(\"world\")"
   ]
  },
  {
   "cell_type": "code",
   "execution_count": 1,
   "id": "256711f0-b664-46cf-95d4-a0f59e82cc9a",
   "metadata": {},
   "outputs": [
    {
     "name": "stdout",
     "output_type": "stream",
     "text": [
      "Linux\n"
     ]
    }
   ],
   "source": [
    "x = print(\"Linux\")"
   ]
  },
  {
   "cell_type": "code",
   "execution_count": 2,
   "id": "1e65a670-2e05-40a8-947e-1d6a98b39846",
   "metadata": {},
   "outputs": [
    {
     "data": {
      "text/plain": [
       "NoneType"
      ]
     },
     "execution_count": 2,
     "metadata": {},
     "output_type": "execute_result"
    }
   ],
   "source": [
    "type(x)"
   ]
  },
  {
   "cell_type": "code",
   "execution_count": 6,
   "id": "f9ca34cf-eba5-40b5-a13f-1626989e9708",
   "metadata": {},
   "outputs": [
    {
     "name": "stdout",
     "output_type": "stream",
     "text": [
      "Linux world\n"
     ]
    }
   ],
   "source": [
    "#runing every block of if else\n",
    "if (print(\"Linux\", end=\" \")):\n",
    "    print(\"Linux\")\n",
    "else:\n",
    "    print(\"world\")\n"
   ]
  },
  {
   "cell_type": "code",
   "execution_count": 10,
   "id": "6119ffbf-846d-421d-9f14-088360e8c419",
   "metadata": {},
   "outputs": [
    {
     "name": "stdout",
     "output_type": "stream",
     "text": [
      "You will get Job\n",
      "You won't get job\n"
     ]
    }
   ],
   "source": [
    "#Logical operator [and, or, not]\n",
    "exp=5\n",
    "(exp>2 and print(\"You will get Job\")) or (exp<2 and print(\"You won't get job\"))"
   ]
  },
  {
   "cell_type": "code",
   "execution_count": null,
   "id": "8e0e8a4c-f3dc-486e-a1ba-4a77fdb1a272",
   "metadata": {},
   "outputs": [],
   "source": []
  }
 ],
 "metadata": {
  "kernelspec": {
   "display_name": "Python 3 (ipykernel)",
   "language": "python",
   "name": "python3"
  },
  "language_info": {
   "codemirror_mode": {
    "name": "ipython",
    "version": 3
   },
   "file_extension": ".py",
   "mimetype": "text/x-python",
   "name": "python",
   "nbconvert_exporter": "python",
   "pygments_lexer": "ipython3",
   "version": "3.12.4"
  }
 },
 "nbformat": 4,
 "nbformat_minor": 5
}
