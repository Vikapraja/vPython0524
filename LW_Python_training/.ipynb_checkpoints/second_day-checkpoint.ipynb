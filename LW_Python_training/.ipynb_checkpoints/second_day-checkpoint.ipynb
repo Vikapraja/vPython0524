{
 "cells": [
  {
   "cell_type": "code",
   "execution_count": 1,
   "id": "9430480d-a40c-49ea-8bf9-96f72bb91ce5",
   "metadata": {},
   "outputs": [
    {
     "name": "stdout",
     "output_type": "stream",
     "text": [
      "Vivekanand Prajapati\n"
     ]
    }
   ],
   "source": [
    "print(\"Vivekanand Prajapati\")"
   ]
  },
  {
   "cell_type": "code",
   "execution_count": 1,
   "id": "5d834cb0-6616-4f90-83c6-fe78444ea3b6",
   "metadata": {},
   "outputs": [],
   "source": [
    "x=10"
   ]
  },
  {
   "cell_type": "code",
   "execution_count": 2,
   "id": "0929d96f-ddd7-4f9f-a7de-7e2e73c7a5ea",
   "metadata": {},
   "outputs": [
    {
     "name": "stdout",
     "output_type": "stream",
     "text": [
      "10\n"
     ]
    }
   ],
   "source": [
    "print(x)"
   ]
  },
  {
   "cell_type": "code",
   "execution_count": 3,
   "id": "5f5e77ce-513f-42e7-8645-cda414936f49",
   "metadata": {},
   "outputs": [],
   "source": [
    "glass='water'"
   ]
  },
  {
   "cell_type": "code",
   "execution_count": 4,
   "id": "a6e8d685-1930-4417-a6f2-59e0ae8f09d4",
   "metadata": {},
   "outputs": [
    {
     "name": "stdout",
     "output_type": "stream",
     "text": [
      "water\n"
     ]
    }
   ],
   "source": [
    "print(glass)"
   ]
  },
  {
   "cell_type": "code",
   "execution_count": 5,
   "id": "bea1035c-4cab-4159-be22-e934e385f1ad",
   "metadata": {},
   "outputs": [],
   "source": [
    "bottle=5"
   ]
  },
  {
   "cell_type": "code",
   "execution_count": 6,
   "id": "ff7bd324-8eea-464f-912f-ceaf24c7f037",
   "metadata": {},
   "outputs": [
    {
     "data": {
      "text/plain": [
       "int"
      ]
     },
     "execution_count": 6,
     "metadata": {},
     "output_type": "execute_result"
    }
   ],
   "source": [
    "type(bottle)"
   ]
  },
  {
   "cell_type": "code",
   "execution_count": 7,
   "id": "865b3a03-1321-4601-b2a0-4aacd961b9af",
   "metadata": {},
   "outputs": [],
   "source": [
    "botl=3.18"
   ]
  },
  {
   "cell_type": "code",
   "execution_count": 8,
   "id": "e039c456-5f84-49c1-adea-0c0e5b869e0d",
   "metadata": {},
   "outputs": [
    {
     "data": {
      "text/plain": [
       "float"
      ]
     },
     "execution_count": 8,
     "metadata": {},
     "output_type": "execute_result"
    }
   ],
   "source": [
    "type(botl)"
   ]
  },
  {
   "cell_type": "code",
   "execution_count": 9,
   "id": "c6c49900-c2d6-4ed5-9228-3c0423e6d52c",
   "metadata": {},
   "outputs": [],
   "source": [
    "bottle='vk'"
   ]
  },
  {
   "cell_type": "code",
   "execution_count": 10,
   "id": "b24e29a1-2539-46d0-bb22-695dd31bbcb8",
   "metadata": {},
   "outputs": [
    {
     "data": {
      "text/plain": [
       "str"
      ]
     },
     "execution_count": 10,
     "metadata": {},
     "output_type": "execute_result"
    }
   ],
   "source": [
    "type(bottle)"
   ]
  },
  {
   "cell_type": "code",
   "execution_count": 11,
   "id": "1f721e93-b71e-4bcd-b99a-f2a20e7c3cbe",
   "metadata": {},
   "outputs": [],
   "source": [
    "bottle='True'"
   ]
  },
  {
   "cell_type": "code",
   "execution_count": 12,
   "id": "f7c3cdc9-44e3-4a8b-82f2-42d72ec7f977",
   "metadata": {},
   "outputs": [
    {
     "data": {
      "text/plain": [
       "str"
      ]
     },
     "execution_count": 12,
     "metadata": {},
     "output_type": "execute_result"
    }
   ],
   "source": [
    "type(bottle)"
   ]
  },
  {
   "cell_type": "code",
   "execution_count": 13,
   "id": "f21ae433-d6c5-4b05-857d-c13e728f1d9e",
   "metadata": {},
   "outputs": [],
   "source": [
    "bottle=True"
   ]
  },
  {
   "cell_type": "code",
   "execution_count": 14,
   "id": "80c51ab0-73db-400a-8c3a-aa3dd9558d0b",
   "metadata": {},
   "outputs": [
    {
     "data": {
      "text/plain": [
       "bool"
      ]
     },
     "execution_count": 14,
     "metadata": {},
     "output_type": "execute_result"
    }
   ],
   "source": [
    "type(bottle)"
   ]
  },
  {
   "cell_type": "code",
   "execution_count": 17,
   "id": "f9b12afd-0801-4430-9f88-acd7f4265e7a",
   "metadata": {},
   "outputs": [
    {
     "data": {
      "text/plain": [
       "[]"
      ]
     },
     "execution_count": 17,
     "metadata": {},
     "output_type": "execute_result"
    }
   ],
   "source": [
    "system(\"notepad\")"
   ]
  },
  {
   "cell_type": "code",
   "execution_count": 25,
   "id": "c4e3d128-c08e-4fd9-97d0-abd11893683e",
   "metadata": {},
   "outputs": [
    {
     "ename": "NameError",
     "evalue": "name 'say' is not defined",
     "output_type": "error",
     "traceback": [
      "\u001b[1;31m---------------------------------------------------------------------------\u001b[0m",
      "\u001b[1;31mNameError\u001b[0m                                 Traceback (most recent call last)",
      "Cell \u001b[1;32mIn[25], line 1\u001b[0m\n\u001b[1;32m----> 1\u001b[0m \u001b[43msay\u001b[49m(\u001b[38;5;124m'\u001b[39m\u001b[38;5;124mhello\u001b[39m\u001b[38;5;124m'\u001b[39m)\n",
      "\u001b[1;31mNameError\u001b[0m: name 'say' is not defined"
     ]
    }
   ],
   "source": [
    "say()"
   ]
  },
  {
   "cell_type": "code",
   "execution_count": null,
   "id": "68ea43eb-540d-4743-8dc2-6c9bfda692f9",
   "metadata": {},
   "outputs": [],
   "source": []
  }
 ],
 "metadata": {
  "kernelspec": {
   "display_name": "Python 3 (ipykernel)",
   "language": "python",
   "name": "python3"
  },
  "language_info": {
   "codemirror_mode": {
    "name": "ipython",
    "version": 3
   },
   "file_extension": ".py",
   "mimetype": "text/x-python",
   "name": "python",
   "nbconvert_exporter": "python",
   "pygments_lexer": "ipython3",
   "version": "3.12.3"
  }
 },
 "nbformat": 4,
 "nbformat_minor": 5
}
